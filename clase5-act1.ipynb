{
 "cells": [
  {
   "cell_type": "markdown",
   "metadata": {},
   "source": [
    "1. Ingresar dos números por teclado a y b. Si a es mayor que b,\n",
    "imprimir ‘Hola Politécnico Malvinas’"
   ]
  },
  {
   "cell_type": "code",
   "execution_count": 3,
   "metadata": {},
   "outputs": [
    {
     "name": "stdout",
     "output_type": "stream",
     "text": [
      "Hola Politécnico Malvinas\n"
     ]
    }
   ],
   "source": [
    "a = int(input(\"Ingrese un número\"))\n",
    "b = int(input(\"Ingrese otro número\"))\n",
    "if a > b :\n",
    "    print(\"Hola Politécnico Malvinas\")"
   ]
  },
  {
   "cell_type": "markdown",
   "metadata": {},
   "source": [
    "2. Ingresar dos números por teclado a y b. Si a no es igual a b, imprimir\n",
    "‘Hola Politécnico Malvinas’"
   ]
  },
  {
   "cell_type": "code",
   "execution_count": 4,
   "metadata": {},
   "outputs": [
    {
     "name": "stdout",
     "output_type": "stream",
     "text": [
      "Hola Politécnico Malvinas\n"
     ]
    }
   ],
   "source": [
    "a = int(input(\"Ingrese un número\"))\n",
    "b = int(input(\"Ingrese otro número\"))\n",
    "if a != b :\n",
    "    print(\"Hola Politécnico Malvinas\")"
   ]
  },
  {
   "cell_type": "markdown",
   "metadata": {},
   "source": [
    "3. Ingresar dos números por teclado a y b. Si a es igual a b, imprimir\n",
    "‘son iguales’ sino imprimir ‘son distintos’"
   ]
  },
  {
   "cell_type": "code",
   "execution_count": 5,
   "metadata": {},
   "outputs": [
    {
     "name": "stdout",
     "output_type": "stream",
     "text": [
      "Son iguales\n"
     ]
    }
   ],
   "source": [
    "a = int(input(\"Ingrese un número\"))\n",
    "b = int(input(\"Ingrese otro número\"))\n",
    "if a == b :\n",
    "    print(\"Son iguales\")\n",
    "else :\n",
    "    print(\"Son distintos\")"
   ]
  },
  {
   "cell_type": "markdown",
   "metadata": {},
   "source": [
    "4. Ingresar dos números por teclado a y b. Si a es igual a b, imprimir 1\n",
    "si a es mayor que b, imprimir 2 sino imprimir 3."
   ]
  },
  {
   "cell_type": "code",
   "execution_count": 6,
   "metadata": {},
   "outputs": [
    {
     "name": "stdout",
     "output_type": "stream",
     "text": [
      "3\n"
     ]
    }
   ],
   "source": [
    "a = int(input(\"Ingrese un número\"))\n",
    "b = int(input(\"Ingrese otro número\"))\n",
    "if a == b :\n",
    "    print(1)\n",
    "elif a > b :\n",
    "    print(2)\n",
    "else :\n",
    "    print(3)"
   ]
  },
  {
   "cell_type": "markdown",
   "metadata": {},
   "source": [
    "5. Ingrese cuatro números por teclado a, b, c y d. Si a es igual b y c es\n",
    "igual a d, imprimir ‘Hola Politécnico Malvinas’"
   ]
  },
  {
   "cell_type": "code",
   "execution_count": 8,
   "metadata": {},
   "outputs": [
    {
     "name": "stdout",
     "output_type": "stream",
     "text": [
      "Hola Politécnico Malvinas\n"
     ]
    }
   ],
   "source": [
    "a = int(input(\"Ingrese el primer número\"))\n",
    "b = int(input(\"Ingrese el segundo número\"))\n",
    "c = int(input(\"Ingrese el tercer número\"))\n",
    "d = int(input(\"Ingrese el cuarto número\"))\n",
    "if a == b and c == d:\n",
    "    print(\"Hola Politécnico Malvinas\")"
   ]
  },
  {
   "cell_type": "markdown",
   "metadata": {},
   "source": [
    "6. Ingrese cuatro números por teclado a, b, c y d. Si a es igual b ó c es\n",
    "igual a d, imprimir ‘Hola Politécnico Malvinas’"
   ]
  },
  {
   "cell_type": "code",
   "execution_count": 9,
   "metadata": {},
   "outputs": [
    {
     "name": "stdout",
     "output_type": "stream",
     "text": [
      "Hola Politécnico Malvinas\n"
     ]
    }
   ],
   "source": [
    "a = int(input(\"Ingrese el primer número\"))\n",
    "b = int(input(\"Ingrese el segundo número\"))\n",
    "c = int(input(\"Ingrese el tercer número\"))\n",
    "d = int(input(\"Ingrese el cuarto número\"))\n",
    "if a == b or c == d:\n",
    "    print(\"Hola Politécnico Malvinas\")"
   ]
  },
  {
   "cell_type": "markdown",
   "metadata": {},
   "source": [
    "7. Ingresar la edad de una persona por teclado, mostrar por pantalla si\n",
    "es mayor o menor de edad."
   ]
  },
  {
   "cell_type": "code",
   "execution_count": null,
   "metadata": {},
   "outputs": [],
   "source": [
    "edad = int(input(\"Ingrese su edad\"))\n",
    "if edad >= 18 :\n",
    "    print(\"Es mayor de edad\")\n",
    "else :\n",
    "    print(\"Es menor de edad\")"
   ]
  },
  {
   "cell_type": "markdown",
   "metadata": {},
   "source": [
    "8. Ingresar un número por teclado y mostrar por pantalla si es para o\n",
    "impar."
   ]
  },
  {
   "cell_type": "code",
   "execution_count": 11,
   "metadata": {},
   "outputs": [
    {
     "name": "stdout",
     "output_type": "stream",
     "text": [
      "El número es Par\n"
     ]
    }
   ],
   "source": [
    "numero = int(input(\"Ingrese un número\"))\n",
    "if numero % 2 == 0 :\n",
    "    print(\"El número es Par\")\n",
    "else :\n",
    "    print(\"El número es Impar\")"
   ]
  },
  {
   "cell_type": "markdown",
   "metadata": {},
   "source": [
    "9. Ingresar por teclado tres números y mostrar por pantalla el mayor de los tres."
   ]
  },
  {
   "cell_type": "code",
   "execution_count": 12,
   "metadata": {},
   "outputs": [
    {
     "name": "stdout",
     "output_type": "stream",
     "text": [
      "El número 8 es el mayor\n"
     ]
    }
   ],
   "source": [
    "num1 = int(input(\"Ingrese el primer número\"))\n",
    "num2 = int(input(\"Ingrese el segundo número\"))\n",
    "num3 = int(input(\"Ingrese el tercer número\"))\n",
    "if num1 > num2 and num1 > num3:\n",
    "    print(f\"El número {num1} es el mayor\")\n",
    "elif num2 > num1 and num2 > num3:\n",
    "    print(f\"El número {num2} es el mayor\")\n",
    "else:\n",
    "    print(f\"El número {num3} es el mayor\")"
   ]
  },
  {
   "cell_type": "markdown",
   "metadata": {},
   "source": [
    "10. Ingresar por teclado un nombre, si la variable nombre, no es nula mostrar por pantalla ‘Bienvenido ‘+ nombre, sino mostrar ‘Bienvenido anónimo’"
   ]
  },
  {
   "cell_type": "code",
   "execution_count": 15,
   "metadata": {},
   "outputs": [
    {
     "name": "stdout",
     "output_type": "stream",
     "text": [
      "Bienvenido anónimo\n"
     ]
    }
   ],
   "source": [
    "nombre = input(\"Ingrese un nombre\")\n",
    "if nombre != \"\":\n",
    "    print(f\"Bienvenido {nombre}\")\n",
    "else:\n",
    "    print(\"Bienvenido anónimo\")"
   ]
  }
 ],
 "metadata": {
  "kernelspec": {
   "display_name": "Python 3",
   "language": "python",
   "name": "python3"
  },
  "language_info": {
   "codemirror_mode": {
    "name": "ipython",
    "version": 3
   },
   "file_extension": ".py",
   "mimetype": "text/x-python",
   "name": "python",
   "nbconvert_exporter": "python",
   "pygments_lexer": "ipython3",
   "version": "3.12.0"
  }
 },
 "nbformat": 4,
 "nbformat_minor": 2
}
