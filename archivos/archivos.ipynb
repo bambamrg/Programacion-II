{
 "cells": [
  {
   "cell_type": "code",
   "execution_count": 2,
   "metadata": {},
   "outputs": [],
   "source": [
    "nombre_archivo=\"archivo.txt\""
   ]
  },
  {
   "cell_type": "code",
   "execution_count": 3,
   "metadata": {},
   "outputs": [],
   "source": [
    "def escribir_archivos(nombre_archivo,texto):\n",
    "    try:\n",
    "        archivo=open(nombre_archivo, 'a')\n",
    "        archivo.write(texto)\n",
    "        archivo.close\n",
    "        return \"Escritura exitosa\"\n",
    "    except:\n",
    "        return \"Error al escribir el archivo\""
   ]
  },
  {
   "cell_type": "code",
   "execution_count": 9,
   "metadata": {},
   "outputs": [
    {
     "name": "stdout",
     "output_type": "stream",
     "text": [
      "Escritura exitosa\n"
     ]
    }
   ],
   "source": [
    "texto_nuevo=\"\\nProbando un tercer texto\"\n",
    "resultado=escribir_archivos(nombre_archivo,texto_nuevo)\n",
    "print(resultado)"
   ]
  }
 ],
 "metadata": {
  "kernelspec": {
   "display_name": "Python 3",
   "language": "python",
   "name": "python3"
  },
  "language_info": {
   "codemirror_mode": {
    "name": "ipython",
    "version": 3
   },
   "file_extension": ".py",
   "mimetype": "text/x-python",
   "name": "python",
   "nbconvert_exporter": "python",
   "pygments_lexer": "ipython3",
   "version": "3.12.0"
  }
 },
 "nbformat": 4,
 "nbformat_minor": 2
}
