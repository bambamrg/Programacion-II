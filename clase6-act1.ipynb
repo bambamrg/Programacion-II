{
 "cells": [
  {
   "cell_type": "markdown",
   "metadata": {},
   "source": [
    "1. Crear una función llamada “usuario” que reciba como parámetro un\n",
    "nombre y devuelva un mensaje “Bienvenido al sistema {nombre}”."
   ]
  },
  {
   "cell_type": "code",
   "execution_count": 40,
   "metadata": {},
   "outputs": [],
   "source": [
    "def usuario(nombre):\n",
    "    print(f'Bienvenido al sistema {nombre}')\n"
   ]
  },
  {
   "cell_type": "markdown",
   "metadata": {},
   "source": [
    "2. llamar a la función “usuario”"
   ]
  },
  {
   "cell_type": "code",
   "execution_count": 4,
   "metadata": {},
   "outputs": [
    {
     "name": "stdout",
     "output_type": "stream",
     "text": [
      "Bienvenido al sistema Iván\n"
     ]
    }
   ],
   "source": [
    "usuario(\"Iván\")"
   ]
  },
  {
   "cell_type": "markdown",
   "metadata": {},
   "source": [
    "3. Escribe una función que tome dos números como argumentos y\n",
    "devuelva su suma."
   ]
  },
  {
   "cell_type": "code",
   "execution_count": 39,
   "metadata": {},
   "outputs": [
    {
     "data": {
      "text/plain": [
       "6"
      ]
     },
     "execution_count": 39,
     "metadata": {},
     "output_type": "execute_result"
    }
   ],
   "source": [
    "def sumar(numero1, numero2):\n",
    "    return numero1 + numero2\n",
    "sumar(2,4)"
   ]
  },
  {
   "cell_type": "code",
   "execution_count": 38,
   "metadata": {},
   "outputs": [
    {
     "data": {
      "text/plain": [
       "8"
      ]
     },
     "execution_count": 38,
     "metadata": {},
     "output_type": "execute_result"
    }
   ],
   "source": [
    "sumar1 = lambda numero1, numero2: numero1 + numero2\n",
    "sumar1(3,5)"
   ]
  },
  {
   "cell_type": "markdown",
   "metadata": {},
   "source": [
    "4. Crea una función que reciba dos números y una operación (suma,\n",
    "resta, multiplicación, división) y devuelva el resultado."
   ]
  },
  {
   "cell_type": "code",
   "execution_count": 3,
   "metadata": {},
   "outputs": [
    {
     "name": "stdout",
     "output_type": "stream",
     "text": [
      "2.0\n"
     ]
    }
   ],
   "source": [
    "def operacion_numeros(numero1, numero2, operacion):\n",
    "    if operacion == 'suma':\n",
    "        resultado = numero1 + numero2\n",
    "    elif operacion == 'resta':\n",
    "        resultado = numero1 - numero2\n",
    "    elif operacion == 'multiplicacion':\n",
    "        resultado = numero1 * numero2\n",
    "    else:\n",
    "        try:\n",
    "            resultado = numero1 / numero2\n",
    "        except Exception as e:\n",
    "            print(\"No se puede dividir por 0\")\n",
    "    return resultado\n",
    "print(operacion_numeros(4,2,'division'))"
   ]
  },
  {
   "cell_type": "markdown",
   "metadata": {},
   "source": [
    "5. Conversor de moneda: Crea una función que convierta de pesos a\n",
    "dólares, que reciba como parámetro la cantidad de pesos y el valor\n",
    "del dólar y devuelva la cantidad de dólares."
   ]
  },
  {
   "cell_type": "code",
   "execution_count": 36,
   "metadata": {},
   "outputs": [
    {
     "name": "stdout",
     "output_type": "stream",
     "text": [
      "25.510204081632654\n"
     ]
    }
   ],
   "source": [
    "def conversor_monedas(cantidad_pesos, valor_dolar):\n",
    "    cantidad_dolares = cantidad_pesos / valor_dolar\n",
    "    return cantidad_dolares\n",
    "print(conversor_monedas(25000, 980))"
   ]
  },
  {
   "cell_type": "markdown",
   "metadata": {},
   "source": [
    "6. Escribe una función que tome una lista de números como argumento\n",
    "y devuelva la suma de los números positivos y la suma de los números negativos en una tupla."
   ]
  },
  {
   "cell_type": "code",
   "execution_count": 30,
   "metadata": {},
   "outputs": [
    {
     "data": {
      "text/plain": [
       "(8, -12)"
      ]
     },
     "execution_count": 30,
     "metadata": {},
     "output_type": "execute_result"
    }
   ],
   "source": [
    "\n",
    "def lista_a_tupla(lista_numeros):\n",
    "    numero_positivo = 0\n",
    "    numero_negativo = 0\n",
    "    for i in lista_numeros:\n",
    "        if i > 0:\n",
    "            numero_positivo += i\n",
    "        else:\n",
    "            numero_negativo += i\n",
    "    return numero_positivo, numero_negativo\n",
    "lista_numeros = [2,-4,6,-8]\n",
    "(lista_a_tupla(lista_numeros))"
   ]
  },
  {
   "cell_type": "markdown",
   "metadata": {},
   "source": [
    "7. Crear una función que reciba un número como parámetro y devuelva\n",
    "True si es primo y False si no lo es."
   ]
  },
  {
   "cell_type": "markdown",
   "metadata": {},
   "source": [
    "8. Escribe una función que tome una lista de números como argumento\n",
    "y devuelva el número más grande y el número más pequeño en una\n",
    "tupla."
   ]
  },
  {
   "cell_type": "code",
   "execution_count": 34,
   "metadata": {},
   "outputs": [
    {
     "data": {
      "text/plain": [
       "(10, 2)"
      ]
     },
     "execution_count": 34,
     "metadata": {},
     "output_type": "execute_result"
    }
   ],
   "source": [
    "def numero_grande_o_pequeño(lista_numeros):\n",
    "    numero_grande = max(lista_numeros)\n",
    "    numero_pequeño = min(lista_numeros)\n",
    "    return numero_grande, numero_pequeño\n",
    "lista_numeros = [2,4,6,8,10]\n",
    "numero_grande_o_pequeño(lista_numeros)\n"
   ]
  },
  {
   "cell_type": "markdown",
   "metadata": {},
   "source": [
    "# Ejercicio en clase\n",
    "Escribir un programa que solicite al usuario ingresar su edad. Debe manejar la excepción que ocurre si el usuario ingresa un valor que no es un número entero y también debes asegurarte de que la edad sea un valor positivo."
   ]
  },
  {
   "cell_type": "code",
   "execution_count": 5,
   "metadata": {},
   "outputs": [
    {
     "name": "stdout",
     "output_type": "stream",
     "text": [
      "Ingrese un número positivo\n"
     ]
    }
   ],
   "source": [
    "def edad_usuario():\n",
    "    try:\n",
    "        edad=int(input(\"Ingrese su edad\"))\n",
    "        if edad <= 0:\n",
    "            print(\"Ingrese un número positivo\")\n",
    "        else:\n",
    "         return edad\n",
    "    except ValueError:\n",
    "        print(\"Error: Ingrese un número entero\")\n",
    "edad_usuario()"
   ]
  },
  {
   "cell_type": "markdown",
   "metadata": {},
   "source": [
    "Escribir un programa que solicite al usuario un índice para acceder a un elemento en una lista predefinida. Deben manejar la excepción que ocurre si el índice está fuera del rango de la lista."
   ]
  },
  {
   "cell_type": "code",
   "execution_count": 8,
   "metadata": {},
   "outputs": [
    {
     "name": "stdout",
     "output_type": "stream",
     "text": [
      "El elemento buscado  3 es:  40\n"
     ]
    }
   ],
   "source": [
    "def buscar_lista():\n",
    "    lista=[10,20,30,40,50]\n",
    "    try:\n",
    "        indice=int(input(\"Ingrese el indice a buscar\"))\n",
    "        print(\"El elemento buscado \", indice, \"es: \", lista[indice])\n",
    "    except IndexError:\n",
    "        print(\"El indice que busca no existe actualmente\")\n",
    "    except ValueError:\n",
    "        print(\"Ingrese un número entero\")\n",
    "buscar_lista()"
   ]
  }
 ],
 "metadata": {
  "kernelspec": {
   "display_name": "Python 3",
   "language": "python",
   "name": "python3"
  },
  "language_info": {
   "codemirror_mode": {
    "name": "ipython",
    "version": 3
   },
   "file_extension": ".py",
   "mimetype": "text/x-python",
   "name": "python",
   "nbconvert_exporter": "python",
   "pygments_lexer": "ipython3",
   "version": "3.12.0"
  }
 },
 "nbformat": 4,
 "nbformat_minor": 2
}
