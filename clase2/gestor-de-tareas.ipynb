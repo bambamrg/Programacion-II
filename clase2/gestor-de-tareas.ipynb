{
 "cells": [
  {
   "cell_type": "markdown",
   "metadata": {},
   "source": [
    "#### Implementar el programa en Python para gestionar tareas utilizando solo listas y diccionarios.\n",
    "+ Agregar al menos tres tareas distintas al programa utilizando el método insert() de la lista.\n",
    "Cada tarea debe ser representada como un diccionario con las claves nombre, descripcion y estado."
   ]
  },
  {
   "cell_type": "code",
   "execution_count": 2,
   "metadata": {},
   "outputs": [
    {
     "name": "stdout",
     "output_type": "stream",
     "text": [
      "[{'nombre': 'Leer la clase', 'descripcion': 'Leer la clase de programación II', 'estado': 'Realizado'}, {'nombre': 'Ver la grabación', 'descripcion': 'Ver la grabación de la clase 4 de programación II', 'estado': 'Pendiente'}, {'nombre': 'Realizar la tarea', 'descripcion': 'Leer y hacer la tarea de la clase 4 de programación II', 'estado': 'Tarea a realizar'}]\n"
     ]
    }
   ],
   "source": [
    "tareas_lista = []\n",
    "tareas_lista.insert(0, {\"nombre\": \"Leer la clase\", \"descripcion\":\"Leer la clase de programación II\", \"estado\":\"Realizado\"})\n",
    "tareas_lista.insert(1, {\"nombre\": \"Ver la grabación\", \"descripcion\": \"Ver la grabación de la clase 4 de programación II\", \"estado\":\"Pendiente\"})\n",
    "tareas_lista.insert(2, {\"nombre\": \"Realizar la tarea\", \"descripcion\": \"Leer y hacer la tarea de la clase 4 de programación II\", \"estado\":\"Tarea a realizar\"})"
   ]
  },
  {
   "cell_type": "markdown",
   "metadata": {},
   "source": [
    "+ Utilizar el método pop() de la lista para eliminar una de las tareas ingresadas."
   ]
  },
  {
   "cell_type": "code",
   "execution_count": 3,
   "metadata": {},
   "outputs": [
    {
     "data": {
      "text/plain": [
       "{'nombre': 'Realizar la tarea',\n",
       " 'descripcion': 'Leer y hacer la tarea de la clase 4 de programación II',\n",
       " 'estado': 'Tarea a realizar'}"
      ]
     },
     "execution_count": 3,
     "metadata": {},
     "output_type": "execute_result"
    }
   ],
   "source": [
    "tareas_lista.pop(2)"
   ]
  },
  {
   "cell_type": "markdown",
   "metadata": {},
   "source": [
    "+ Mostrar las Tareas: \n",
    "Imprimir en pantalla las tareas restantes almacenadas en la lista, accediendo directamente a los elementos mediante sus índices."
   ]
  },
  {
   "cell_type": "code",
   "execution_count": 5,
   "metadata": {},
   "outputs": [
    {
     "name": "stdout",
     "output_type": "stream",
     "text": [
      "{'nombre': 'Leer la clase', 'descripcion': 'Leer la clase de programación II', 'estado': 'Realizado'}\n",
      "{'nombre': 'Ver la grabación', 'descripcion': 'Ver la grabación de la clase 4 de programación II', 'estado': 'Pendiente'}\n"
     ]
    }
   ],
   "source": [
    "print(tareas_lista[0])\n",
    "print(tareas_lista[1])"
   ]
  }
 ],
 "metadata": {
  "kernelspec": {
   "display_name": "Python 3",
   "language": "python",
   "name": "python3"
  },
  "language_info": {
   "codemirror_mode": {
    "name": "ipython",
    "version": 3
   },
   "file_extension": ".py",
   "mimetype": "text/x-python",
   "name": "python",
   "nbconvert_exporter": "python",
   "pygments_lexer": "ipython3",
   "version": "3.12.0"
  }
 },
 "nbformat": 4,
 "nbformat_minor": 2
}
