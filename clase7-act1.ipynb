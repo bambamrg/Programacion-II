{
 "cells": [
  {
   "cell_type": "markdown",
   "metadata": {},
   "source": [
    "1. Crea la clase base \"Persona\" con los siguientes atributos:\n",
    "    * nombre\n",
    "    * edad\n",
    "    \n",
    "Incluir un constructor que inicialice los atributos"
   ]
  },
  {
   "cell_type": "code",
   "execution_count": 4,
   "metadata": {},
   "outputs": [],
   "source": [
    "class Persona:\n",
    "    def __init__(self,nombre,edad):\n",
    "        self.nombre = nombre\n",
    "        self.edad = edad"
   ]
  },
  {
   "cell_type": "markdown",
   "metadata": {},
   "source": [
    "2. Crea la clase base \"Vehículo\" con los siguientes atributos:\n",
    "* marca\n",
    "* modelo\n",
    "\n",
    "Incluir un constructor que inicialice los atributos"
   ]
  },
  {
   "cell_type": "code",
   "execution_count": 1,
   "metadata": {},
   "outputs": [],
   "source": [
    "class Vehiculo:\n",
    "    def __init__(self,marca,modelo):\n",
    "        self.marca = marca\n",
    "        self.modelo = modelo\n",
    "\n",
    "    def imprimir(self):\n",
    "        print(f'El vehiculo de la marca {self.marca} y modelo {self.modelo}')"
   ]
  },
  {
   "cell_type": "markdown",
   "metadata": {},
   "source": [
    "3. Crea la clase base \"Animal\" con los siguientes atributos:\n",
    "* nombre\n",
    "* edad\n",
    "* especie\n",
    "\n",
    "Incluir un constructor que inicialice los atributos"
   ]
  },
  {
   "cell_type": "code",
   "execution_count": 6,
   "metadata": {},
   "outputs": [],
   "source": [
    "class Animal:\n",
    "    def __init__(self,nombre,edad,especie):\n",
    "        self.nombre = nombre\n",
    "        self.edad = edad\n",
    "        self.especie = especie"
   ]
  },
  {
   "cell_type": "markdown",
   "metadata": {},
   "source": [
    "4. Crea una clase \"Estudiante\" que herede de \"Persona\" y tenga\n",
    "un atributo adicional \"escuela\". Agrega métodos para imprimir la\n",
    "información del estudiante."
   ]
  },
  {
   "cell_type": "code",
   "execution_count": 7,
   "metadata": {},
   "outputs": [
    {
     "name": "stdout",
     "output_type": "stream",
     "text": [
      "El nombre del estudiantes es Pablo, su edad es 25 y su escuela es Politecnico\n"
     ]
    }
   ],
   "source": [
    "class Estudiante(Persona):\n",
    "    def __init__(self, nombre, edad,escuela):\n",
    "        super().__init__(nombre, edad)\n",
    "        self.escuela = escuela\n",
    "#metodos\n",
    "    def imprimir(self):\n",
    "        print(f'El nombre del estudiantes es {self.nombre}, su edad es {self.edad} y su escuela es {self.escuela}')\n",
    "\n",
    "estudiante1 = Estudiante(\"Pablo\",25,\"Politecnico\")\n",
    "estudiante1.imprimir()\n"
   ]
  },
  {
   "cell_type": "markdown",
   "metadata": {},
   "source": [
    "5. Crea una clase \"Empleado\" que herede de \"Persona\" y tenga\n",
    "atributos adicionales como \"empresa\" y \"puesto\". Agrega métodos para\n",
    "imprimir la información del empleado."
   ]
  },
  {
   "cell_type": "code",
   "execution_count": 5,
   "metadata": {},
   "outputs": [
    {
     "name": "stdout",
     "output_type": "stream",
     "text": [
      "El nombre del empleado es Juan, su edad es 30, trabaja en la empresa BGH y su puesto es Gerente\n"
     ]
    }
   ],
   "source": [
    "class Empleado(Persona):\n",
    "    def __init__(self,nombre,edad,empresa,puesto):\n",
    "        super().__init__(nombre,edad)\n",
    "        self.empresa = empresa\n",
    "        self.puesto = puesto\n",
    "#metodos\n",
    "    def imprimir(self):\n",
    "        print(f'El nombre del empleado es {self.nombre}, su edad es {self.edad}, trabaja en la empresa {self.empresa} y su puesto es {self.puesto}')\n",
    "\n",
    "empleado1 = Empleado(\"Juan\",30,\"BGH\",\"Gerente\")\n",
    "empleado1.imprimir()"
   ]
  },
  {
   "cell_type": "markdown",
   "metadata": {},
   "source": [
    "6. Crea una clase \"Coche\" que herede de \"Vehículo\" y tenga atributos\n",
    "adicionales como \"color\" y \"velocidad\". Agrega métodos para\n",
    "imprimir la información del coche."
   ]
  },
  {
   "cell_type": "code",
   "execution_count": 6,
   "metadata": {},
   "outputs": [
    {
     "name": "stdout",
     "output_type": "stream",
     "text": [
      "El vehiculo de la marca Toyota y modelo Hilux\n",
      "Tiene el color Blanco y su velocidad es 120\n"
     ]
    }
   ],
   "source": [
    "class Coche(Vehiculo):\n",
    "    def __init__(self, marca, modelo,color,velocidad):\n",
    "        super().__init__(marca, modelo)\n",
    "        self.color = color\n",
    "        self.velocidad = velocidad\n",
    "#metodos\n",
    "\n",
    "    def imprimir(self):\n",
    "        super().imprimir()\n",
    "        print(f'Tiene el color {self.color} y su velocidad es {self.velocidad}')\n",
    "\n",
    "coche1 = Coche(\"Toyota\",\"Hilux\",\"Blanco\",120)\n",
    "coche1.imprimir()\n"
   ]
  },
  {
   "cell_type": "markdown",
   "metadata": {},
   "source": [
    "7. Crea una clase \"Perro\" que herede de \"Animal\" y tenga un atributo adicional \"raza\". Agrega métodos para imprimir la información del gato."
   ]
  },
  {
   "cell_type": "code",
   "execution_count": 8,
   "metadata": {},
   "outputs": [
    {
     "name": "stdout",
     "output_type": "stream",
     "text": [
      "El nombre del perro es Firulais, su edad es 5 y su raza es Dogo.\n"
     ]
    }
   ],
   "source": [
    "class Perro(Animal):\n",
    "    def __init__(self, nombre, edad, especie,raza):\n",
    "        super().__init__(nombre, edad, especie)\n",
    "        self.raza = raza\n",
    "#metodos\n",
    "\n",
    "    def imprimir(self):\n",
    "        print(f'El nombre del perro es {self.nombre}, su edad es {self.edad} y su raza es {self.raza}.')\n",
    "\n",
    "perro1 = Perro(\"Firulais\", 5, \"Perro\", \"Dogo\")\n",
    "perro1.imprimir()"
   ]
  },
  {
   "cell_type": "markdown",
   "metadata": {},
   "source": [
    "8. Crea una clase \"EstudianteUniversitario\" que herede de \"Estudiante\" y tenga atributos adicionales como \"carrera\" y \"semestre\". Agrega métodos para imprimir la información del estudiante universitario."
   ]
  },
  {
   "cell_type": "code",
   "execution_count": 9,
   "metadata": {},
   "outputs": [
    {
     "name": "stdout",
     "output_type": "stream",
     "text": [
      "El nombre del estudiante es Mateo, su edad es 31, esta en la carrera de Ciencia de Datos en el Primer semestre.\n"
     ]
    }
   ],
   "source": [
    "class EstudianteUniversitario(Estudiante):\n",
    "    def __init__(self, nombre, edad, escuela,carrera,semestre):\n",
    "        super().__init__(nombre, edad, escuela)\n",
    "        self.carrera = carrera\n",
    "        self.semestre = semestre\n",
    "#metodos\n",
    "\n",
    "    def imprimir(self):\n",
    "        print(f'El nombre del estudiante es {self.nombre}, su edad es {self.edad}, esta en la carrera de {self.carrera} en el {self.semestre} semestre.')\n",
    "\n",
    "estudianteUniversitario1 = EstudianteUniversitario(\"Mateo\",31,\"Politecnico\",\"Ciencia de Datos\", \"Primer\")\n",
    "estudianteUniversitario1.imprimir()"
   ]
  },
  {
   "cell_type": "markdown",
   "metadata": {},
   "source": [
    "9. Crea una clase \"Camioneta\" que herede de \"Vehículo\" y tenga un atributo adicional \"capacidad_carga\". Agrega métodos para imprimir la información de la camioneta."
   ]
  },
  {
   "cell_type": "code",
   "execution_count": 10,
   "metadata": {},
   "outputs": [
    {
     "name": "stdout",
     "output_type": "stream",
     "text": [
      "La camioneta Fiat con modelo Toro tiene una capacidad de carga de 2500 kg.\n"
     ]
    }
   ],
   "source": [
    "class Camioneta(Vehiculo):\n",
    "    def __init__(self, marca, modelo,capacidad_carga):\n",
    "        super().__init__(marca, modelo)\n",
    "        self.capacidad_marca = capacidad_carga\n",
    "#metodos\n",
    "\n",
    "    def imprimir(self):\n",
    "        print(f'La camioneta {self.marca} con modelo {self.modelo} tiene una capacidad de carga de {self.capacidad_marca} kg.')\n",
    "\n",
    "camioneta1= Camioneta(\"Fiat\", \"Toro\", 2500)\n",
    "camioneta1.imprimir()"
   ]
  },
  {
   "cell_type": "markdown",
   "metadata": {},
   "source": [
    "10. Crea una clase \"Profesor\" que herede de \"Empleado\" y tenga atributos adicionales como \"materia\" y \"experiencia\".\n",
    "Agrega métodos para imprimir la información del profesor."
   ]
  },
  {
   "cell_type": "code",
   "execution_count": 12,
   "metadata": {},
   "outputs": [
    {
     "name": "stdout",
     "output_type": "stream",
     "text": [
      "El profesor Gonzalo tiene 44 años, trabaja en Mirgor en el puesto de supervisor dando programación II y True\n"
     ]
    }
   ],
   "source": [
    "class Profesor(Empleado):\n",
    "    def __init__(self, nombre, edad, empresa, puesto,materia,experiencia):\n",
    "        super().__init__(nombre, edad, empresa, puesto)\n",
    "        self.materia=materia\n",
    "        self.experiencia = experiencia\n",
    "#metodos\n",
    "\n",
    "    def imprimir(self):\n",
    "        print(f'El profesor {self.nombre} tiene {self.edad} años, trabaja en {self.empresa} en el puesto de {self.puesto} dando {self.materia} y {self.experiencia}')\n",
    "\n",
    "profesor1 = Profesor(\"Gonzalo\", 44, \"Mirgor\", \"supervisor\", \"programación II\", True)\n",
    "profesor1.imprimir()"
   ]
  },
  {
   "cell_type": "markdown",
   "metadata": {},
   "source": [
    "11. Crea una clase \"Motocicleta\" que herede de \"Vehículo\" y tenga atributos adicionales como \"cilindrada\" y \"tipo\". Agrega métodos para imprimir la información de la motocicleta."
   ]
  },
  {
   "cell_type": "code",
   "execution_count": 3,
   "metadata": {},
   "outputs": [
    {
     "name": "stdout",
     "output_type": "stream",
     "text": [
      "La moto Honda del modelo H1 con una cilindrada de 1200 y del tipo Enduro\n"
     ]
    }
   ],
   "source": [
    "class Motocicleta(Vehiculo):\n",
    "    def __init__(self, marca, modelo,cilindrada,tipo):\n",
    "        super().__init__(marca, modelo)\n",
    "        self.cilindrada = cilindrada\n",
    "        self.tipo = tipo\n",
    "#metodos\n",
    "\n",
    "    def imprimir(self):\n",
    "        print(f'La moto {self.marca} del modelo {self.modelo} con una cilindrada de {self.cilindrada} y del tipo {self.tipo}')\n",
    "\n",
    "motocicleta1 = Motocicleta(\"Honda\",\"H1\",1200,\"Enduro\")\n",
    "motocicleta1.imprimir()"
   ]
  },
  {
   "cell_type": "markdown",
   "metadata": {},
   "source": [
    "12. Crea una clase \"Ave\" que herede de \"Animal\" y tenga atributos adicionales como \"especie\" y \"habitat\". Agrega métodos para imprimir la información del ave."
   ]
  },
  {
   "cell_type": "code",
   "execution_count": 16,
   "metadata": {},
   "outputs": [
    {
     "name": "stdout",
     "output_type": "stream",
     "text": [
      "El nombre del ave es Pepito, tiene 3 años, su especie es Guacamayo y su habitat es Selva tropical\n"
     ]
    }
   ],
   "source": [
    "class Ave(Animal):\n",
    "    def __init__(self, nombre, edad, especie,habitat):\n",
    "        super().__init__(nombre, edad, especie)\n",
    "        self.habitat = habitat\n",
    "#metodos\n",
    "\n",
    "    def imprimir(self):\n",
    "        print(f'El nombre del ave es {self.nombre}, tiene {self.edad} años, su especie es {self.especie} y su habitat es {self.habitat}')\n",
    "\n",
    "ave1 = Ave(\"Pepito\", 3, \"Guacamayo\", \"Selva tropical\")\n",
    "ave1.imprimir()"
   ]
  },
  {
   "cell_type": "markdown",
   "metadata": {},
   "source": [
    "13. Crea una clase \"Cliente\" que herede de \"Persona\" y tenga atributos adicionales como \"direccion\" y \"telefono\". Agrega\n",
    "métodos para imprimir la información del cliente."
   ]
  },
  {
   "cell_type": "code",
   "execution_count": 20,
   "metadata": {},
   "outputs": [
    {
     "name": "stdout",
     "output_type": "stream",
     "text": [
      "El nombre del cliente es Rosa, tiene 55 años, su dirección es Calle Falsa 123 y su número de teléfono es 2964454566.\n"
     ]
    }
   ],
   "source": [
    "class Cliente(Persona):\n",
    "    def __init__(self, nombre, edad,direccion,telefono):\n",
    "        super().__init__(nombre, edad)\n",
    "        self.direccion = direccion\n",
    "        self.telefono = telefono\n",
    "#metodos\n",
    "\n",
    "    def imprimir(self):\n",
    "        print(f'El nombre del cliente es {self.nombre}, tiene {self.edad} años, su dirección es {self.direccion} y su número de teléfono es {self.telefono}.')\n",
    "\n",
    "cliente1 = Cliente(\"Rosa\", 55, \"Calle Falsa 123\", 2964454566)\n",
    "cliente1.imprimir()"
   ]
  },
  {
   "cell_type": "markdown",
   "metadata": {},
   "source": [
    "14. Crea una clase \"Bicicleta\" que herede de \"Vehículo\" y tenga atributos adicionales como \"tipo\""
   ]
  },
  {
   "cell_type": "code",
   "execution_count": 21,
   "metadata": {},
   "outputs": [
    {
     "name": "stdout",
     "output_type": "stream",
     "text": [
      "La bicicleta es de Argentina del modelo Tango y del tipo Mountain bike\n"
     ]
    }
   ],
   "source": [
    "class Bicicleta(Vehiculo):\n",
    "    def __init__(self, marca, modelo,tipo):\n",
    "        super().__init__(marca, modelo)\n",
    "        self.tipo = tipo\n",
    "#metodos\n",
    "\n",
    "    def imprimir(self):\n",
    "        print(f'La bicicleta es de {self.marca} del modelo {self.modelo} y del tipo {self.tipo}')\n",
    "\n",
    "bicicleta1 = Bicicleta(\"Argentina\", \"Tango\", \"Mountain bike\")\n",
    "bicicleta1.imprimir()"
   ]
  }
 ],
 "metadata": {
  "kernelspec": {
   "display_name": "Python 3",
   "language": "python",
   "name": "python3"
  },
  "language_info": {
   "codemirror_mode": {
    "name": "ipython",
    "version": 3
   },
   "file_extension": ".py",
   "mimetype": "text/x-python",
   "name": "python",
   "nbconvert_exporter": "python",
   "pygments_lexer": "ipython3",
   "version": "3.12.0"
  }
 },
 "nbformat": 4,
 "nbformat_minor": 2
}
