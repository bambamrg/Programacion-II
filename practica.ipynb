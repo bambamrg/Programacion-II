{
 "cells": [
  {
   "cell_type": "code",
   "execution_count": 3,
   "metadata": {},
   "outputs": [
    {
     "ename": "TypeError",
     "evalue": "TareaGeneral.__init__() missing 3 required positional arguments: 'nombre', 'descripcion', and 'prioridad'",
     "output_type": "error",
     "traceback": [
      "\u001b[1;31m---------------------------------------------------------------------------\u001b[0m",
      "\u001b[1;31mTypeError\u001b[0m                                 Traceback (most recent call last)",
      "Cell \u001b[1;32mIn[3], line 41\u001b[0m\n\u001b[0;32m     39\u001b[0m respuestaTipoAgregar \u001b[38;5;241m=\u001b[39m \u001b[38;5;28minput\u001b[39m(\u001b[38;5;124m\"\u001b[39m\u001b[38;5;124mTipo de Tarea: ¿General o Con Fecha?\u001b[39m\u001b[38;5;124m\"\u001b[39m)\n\u001b[0;32m     40\u001b[0m \u001b[38;5;28;01mif\u001b[39;00m respuestaTipoAgregar \u001b[38;5;241m==\u001b[39m \u001b[38;5;124m\"\u001b[39m\u001b[38;5;124mGeneral\u001b[39m\u001b[38;5;124m\"\u001b[39m:\n\u001b[1;32m---> 41\u001b[0m     tareaGeneral \u001b[38;5;241m=\u001b[39m \u001b[43mTareaGeneral\u001b[49m\u001b[43m(\u001b[49m\u001b[43m)\u001b[49m\n\u001b[0;32m     42\u001b[0m     tareaGeneral\u001b[38;5;241m.\u001b[39magregarTarea()\n\u001b[0;32m     43\u001b[0m \u001b[38;5;28;01melse\u001b[39;00m:\n",
      "\u001b[1;31mTypeError\u001b[0m: TareaGeneral.__init__() missing 3 required positional arguments: 'nombre', 'descripcion', and 'prioridad'"
     ]
    }
   ],
   "source": [
    "listaTareas = []\n",
    "\n",
    "class TareaGeneral:\n",
    "    def __init__(self, nombre, descripcion, prioridad):\n",
    "        self.nombre = nombre\n",
    "        self.descripcion = descripcion\n",
    "        self.prioridad = prioridad\n",
    "\n",
    "    def agregarTarea(self):\n",
    "        nombre = input(\"Nombre de la tarea: \")\n",
    "        descripcion = input(\"Descripción: \")\n",
    "        prioridad = input(\"Prioridad (alta, media, baja): \")\n",
    "        tarea = {\"nombre\": nombre, \"descripcion\": descripcion, \"prioridad\": prioridad}\n",
    "        listaTareas.append(tarea)\n",
    "\n",
    "class TareaConFecha(TareaGeneral):\n",
    "    def __init__(self, nombre, descripcion, prioridad, fecha):\n",
    "        super().__init__(nombre, descripcion, prioridad)\n",
    "        self.fecha = fecha\n",
    "\n",
    "    def agregarTarea(self):\n",
    "        super().agregarTarea()\n",
    "        self.fecha = input(\"Fecha de la tarea: \")\n",
    "        listaTareas[-1][\"fecha\"] = self.fecha\n",
    "\n",
    "def quitarTarea(nombreTarea):\n",
    "    for tarea in listaTareas:\n",
    "        if tarea[\"nombre\"] == nombreTarea:\n",
    "            listaTareas.remove(tarea)\n",
    "\n",
    "def listarTarea(listaTareas):\n",
    "    print(\"Lista de Tareas:\")\n",
    "    for tarea in listaTareas:\n",
    "        print(tarea)\n",
    "\n",
    "while True:\n",
    "    respuesta = input(\"¿Desea Agregar, Quitar o Listar las tareas?\")\n",
    "    if respuesta == \"Agregar\":\n",
    "        respuestaTipoAgregar = input(\"Tipo de Tarea: ¿General o Con Fecha?\")\n",
    "        if respuestaTipoAgregar == \"General\":\n",
    "            tareaGeneral = TareaGeneral()\n",
    "            tareaGeneral.agregarTarea()\n",
    "        else:\n",
    "            tareaConFecha = TareaConFecha(\"\", \"\", \"\", \"\")\n",
    "            tareaConFecha.agregarTarea()\n",
    "    elif respuesta == \"Quitar\":\n",
    "        tarea = input(\"Nombre de la tarea a eliminar: \")\n",
    "        quitarTarea(tarea)\n",
    "    elif respuesta == \"Listar\":\n",
    "        listarTarea(listaTareas)\n",
    "    else:\n",
    "        break\n"
   ]
  }
 ],
 "metadata": {
  "kernelspec": {
   "display_name": "Python 3",
   "language": "python",
   "name": "python3"
  },
  "language_info": {
   "codemirror_mode": {
    "name": "ipython",
    "version": 3
   },
   "file_extension": ".py",
   "mimetype": "text/x-python",
   "name": "python",
   "nbconvert_exporter": "python",
   "pygments_lexer": "ipython3",
   "version": "3.12.0"
  }
 },
 "nbformat": 4,
 "nbformat_minor": 2
}
