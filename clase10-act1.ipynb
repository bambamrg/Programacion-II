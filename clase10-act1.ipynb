{
 "cells": [
  {
   "cell_type": "markdown",
   "metadata": {},
   "source": [
    "### Ejercicio 1:\n",
    "\n",
    "Implementar un sistema de pagos que incluya las siguientes clases:\n",
    "\n",
    "● Empleado: clase base con el método calcular_salario().\n",
    "\n",
    "● EmpleadoAsalariado: hereda de Empleado e implementa el método\n",
    "calcular_salario() considerando un salario fijo.\n",
    "\n",
    "● EmpleadoPorHoras: hereda de Empleado e implementa el método\n",
    "calcular_salario() considerando el número de horas trabajadas y la\n",
    "tarifa por hora.\n",
    "\n",
    "● EmpleadoComision: hereda de Empleado e implementa el método\n",
    "calcular_salario() considerando un salario base y una comisión por\n",
    "ventas.\n",
    "\n",
    "Crea una lista de empleados de diferentes tipos y utiliza el polimorfismo\n",
    "para calcular el salario de cada uno llamando al método calcular_salario()."
   ]
  },
  {
   "cell_type": "code",
   "execution_count": 1,
   "metadata": {},
   "outputs": [
    {
     "name": "stdout",
     "output_type": "stream",
     "text": [
      "150000\n",
      "120000\n",
      "2500000\n"
     ]
    }
   ],
   "source": [
    "class Empleado:\n",
    "    def __init__(self, nombre, apellido, dni, salario):\n",
    "        self.nombre = nombre\n",
    "        self.apellido = apellido\n",
    "        self.dni = dni\n",
    "        self.salario = salario\n",
    "    \n",
    "    def calcular_salario(self):\n",
    "        pass\n",
    "\n",
    "class EmpleadoAsalariado(Empleado):\n",
    "    def __init__(self, nombre, apellido, dni, salario):\n",
    "        super().__init__(nombre, apellido, dni, salario)\n",
    "    \n",
    "    def calcular_salario(self):\n",
    "        return self.salario\n",
    "\n",
    "class EmpleadoPorHoras(Empleado):\n",
    "    def __init__(self, nombre, apellido, dni, salario):\n",
    "        super().__init__(nombre, apellido, dni, salario)\n",
    "    \n",
    "    def calcular_salario(self,horas_trabajadas,tarifa_por_hora):\n",
    "        return horas_trabajadas * tarifa_por_hora\n",
    "\n",
    "class EmpleadoComision(Empleado):\n",
    "    def __init__(self, nombre, apellido, dni, salario):\n",
    "        super().__init__(nombre, apellido, dni, salario)\n",
    "    \n",
    "    def calcular_salario(self,salario_base,comision_por_ventas):\n",
    "        return salario_base * comision_por_ventas\n",
    "\n",
    "empleadoAsalariado1 = EmpleadoAsalariado(\"Juan\",\"Perez\",12345678,150000)\n",
    "print(empleadoAsalariado1.calcular_salario())\n",
    "\n",
    "empleadoPorHoras = EmpleadoPorHoras(\"Pablo\",\"Marmol\",28374641,253000)\n",
    "print(empleadoPorHoras.calcular_salario(40,3000))\n",
    "\n",
    "empleadoComision = EmpleadoComision(\"Javier\",\"Messi\",48457928,270009)\n",
    "print(empleadoComision.calcular_salario(500000,5))\n"
   ]
  },
  {
   "cell_type": "markdown",
   "metadata": {},
   "source": [
    "### Ejercicio 2:\n",
    "\n",
    "Crear una clase llamada CalculadoraExponencial que calcule el resultado de elevar un número a una potencia dada utilizando un ciclo. La clase debe tener los siguientes métodos:\n",
    "\n",
    "● init (self, base, potencia): Este método debe inicializar la base y la potencia.\n",
    "\n",
    "● calcular_exponenciacion(): Este método debe calcular el resultado de elevar la base a la potencia sin utilizar el operador de exponenciación (**)."
   ]
  },
  {
   "cell_type": "code",
   "execution_count": 5,
   "metadata": {},
   "outputs": [
    {
     "data": {
      "text/plain": [
       "8"
      ]
     },
     "execution_count": 5,
     "metadata": {},
     "output_type": "execute_result"
    }
   ],
   "source": [
    "class CalculadoraExponencial():\n",
    "    def __init__(self, base, potencia):\n",
    "        self.base = base\n",
    "        self.potencia = potencia\n",
    "    \n",
    "    def calcular_exponenciacion(self,base,potencia):\n",
    "        resultado = 1\n",
    "        for _ in range(potencia):\n",
    "            resultado *= base\n",
    "        return resultado\n",
    "calculo1 = CalculadoraExponencial(2,3)\n",
    "calculo1.calcular_exponenciacion(2,3)"
   ]
  },
  {
   "cell_type": "markdown",
   "metadata": {},
   "source": [
    "### Ejercicio 3:\n",
    "\n",
    "Crear una clase llamada ConversorUnidades que convierta una cantidad en una unidad de medida a otra unidad de medida. La clase debe tener los siguientes métodos:\n",
    "\n",
    "● init (self): Este método debe inicializar la clase.\n",
    "\n",
    "● convertir_kilometros_a_millas(self, kilometros): Este método debe recibir una cantidad en kilómetros y devolver la cantidad equivalente en millas.\n",
    "\n",
    "● convertir_celsius_a_fahrenheit(self, celsius): Este método debe recibir una temperatura en grados Celsius y devolver la temperatura equivalente en grados Fahrenheit."
   ]
  },
  {
   "cell_type": "code",
   "execution_count": 6,
   "metadata": {},
   "outputs": [
    {
     "name": "stdout",
     "output_type": "stream",
     "text": [
      "14.912945679595362\n",
      "87.8\n"
     ]
    }
   ],
   "source": [
    "class ConversorUnidades():\n",
    "    def __init__(self):\n",
    "        self.unidad = self\n",
    "\n",
    "    def convertir_kilometros_a_millas(self,kilometros):\n",
    "        return kilometros / 1.60934\n",
    "        \n",
    "    \n",
    "    def convertir_celsius_a_fahrenheit(self,celsius):\n",
    "        return (celsius * 9/5) + 32\n",
    "        \n",
    "\n",
    "kilometros1 = ConversorUnidades()\n",
    "print(kilometros1.convertir_kilometros_a_millas(24))\n",
    "\n",
    "celsius1 = ConversorUnidades()\n",
    "print(celsius1.convertir_celsius_a_fahrenheit(31))"
   ]
  },
  {
   "cell_type": "markdown",
   "metadata": {},
   "source": [
    "### Ejercicio 4:\n",
    "\n",
    "Están desarrollando una aplicación de gestión de inventario para una tienda y necesitan crear una clase llamada Producto que represente un producto en el inventario. Cada producto tiene un nombre, un precio unitario y una cantidad en stock.\n",
    "La clase Producto debe tener los siguientes métodos:\n",
    "\n",
    "● init (self, nombre, precio, stock): Este método debe inicializar un producto con su nombre, precio y stock disponibles.\n",
    "\n",
    "● verificar_disponibilidad(self, cantidad_requerida): Este método debe recibir la cantidad requerida de un producto y\n",
    "verificar si hay suficiente stock para satisfacer esa cantidad.\n",
    "\n",
    "Debe devolver un mensaje que indique si el producto está disponible en la cantidad requerida o si no hay suficiente stock."
   ]
  },
  {
   "cell_type": "code",
   "execution_count": 7,
   "metadata": {},
   "outputs": [
    {
     "name": "stdout",
     "output_type": "stream",
     "text": [
      "No hay suficiente stock\n"
     ]
    }
   ],
   "source": [
    "class Producto():\n",
    "    def __init__(self, nombre, precio, cantidad):\n",
    "        self.nombre = nombre\n",
    "        self.precio = precio\n",
    "        self.cantidad = cantidad\n",
    "    \n",
    "    def verificar_disponibilidad(self,cantidad_requerida):\n",
    "        if self.cantidad >= cantidad_requerida:\n",
    "            print(\"El producto esta disponible\")\n",
    "        else:\n",
    "            print(\"No hay suficiente stock\")\n",
    "\n",
    "producto1 = Producto(\"Harina\",630,25)\n",
    "producto1.verificar_disponibilidad(26)"
   ]
  },
  {
   "cell_type": "markdown",
   "metadata": {},
   "source": [
    "### Ejercicio 5:\n",
    "\n",
    "Crea un sistema para gestionar una biblioteca que incluya las siguientes\n",
    "clases:\n",
    "\n",
    "● Publicacion: clase base que contiene información común como título y autor.\n",
    "\n",
    "● Libro: hereda de Publicacion e incluye atributos específicos como ISBN y número de páginas.\n",
    "\n",
    "● Revista: hereda de Publicacion e incluye atributos específicos como volumen y número.\n",
    "\n",
    "Implementar métodos en cada clase para mostrar la información relevante de cada tipo de publicación. Luego, crea una lista de diferentes publicaciones y muestra la información de cada una."
   ]
  },
  {
   "cell_type": "code",
   "execution_count": 8,
   "metadata": {},
   "outputs": [
    {
     "name": "stdout",
     "output_type": "stream",
     "text": [
      "El titulo es El libro de Python y su autor es El profe\n",
      "El titulo es El Aleph y su autor es Jorge Luis Borges\n",
      "Su ISBN es 978842069 y el número de paginas es 146\n",
      "El titulo es Ole y su autor es Alejandro Fantino\n",
      "El volumen es II y el número es 45\n"
     ]
    }
   ],
   "source": [
    "class Publicacion():\n",
    "    def __init__(self, titulo, autor):\n",
    "        self.titulo = titulo\n",
    "        self.autor = autor\n",
    "    \n",
    "    def mostrar_informacion(self):\n",
    "        print(f'El titulo es {self.titulo} y su autor es {self.autor}')\n",
    "\n",
    "class Libro(Publicacion):\n",
    "    def __init__(self, titulo, autor, ISBN, numero_de_paginas):\n",
    "        super().__init__(titulo, autor)\n",
    "        self.ISBN = ISBN\n",
    "        self.numero_de_paginas = numero_de_paginas\n",
    "\n",
    "    def mostrar_informacion(self):\n",
    "        super().mostrar_informacion()\n",
    "        print(f'Su ISBN es {self.ISBN} y el número de paginas es {self.numero_de_paginas}')\n",
    "\n",
    "class Revista(Publicacion):\n",
    "    def __init__(self, titulo, autor, volumen, numero):\n",
    "        super().__init__(titulo, autor)\n",
    "        self.volumen = volumen\n",
    "        self.numero = numero\n",
    "    \n",
    "    def mostrar_informacion(self):\n",
    "        super().mostrar_informacion()\n",
    "        print(f'El volumen es {self.volumen} y el número es {self.numero}')\n",
    "\n",
    "publicacion1 = Publicacion(\"El libro de Python\",\"El profe\")\n",
    "publicacion1.mostrar_informacion()\n",
    "\n",
    "libro1 = Libro(\"El Aleph\",\"Jorge Luis Borges\",978842069,146)\n",
    "libro1.mostrar_informacion()\n",
    "\n",
    "revista1 = Revista(\"Ole\",\"Alejandro Fantino\",\"II\",45)\n",
    "revista1.mostrar_informacion()"
   ]
  }
 ],
 "metadata": {
  "kernelspec": {
   "display_name": "Python 3",
   "language": "python",
   "name": "python3"
  },
  "language_info": {
   "codemirror_mode": {
    "name": "ipython",
    "version": 3
   },
   "file_extension": ".py",
   "mimetype": "text/x-python",
   "name": "python",
   "nbconvert_exporter": "python",
   "pygments_lexer": "ipython3",
   "version": "3.12.0"
  }
 },
 "nbformat": 4,
 "nbformat_minor": 2
}
